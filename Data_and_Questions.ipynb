{
 "cells": [
  {
   "cell_type": "markdown",
   "id": "8a4493a3-bc7c-4fed-ae0c-168d31515bf2",
   "metadata": {},
   "source": [
    "# STAT 301 Project: Data and Questions\n",
    "#### Group 23: Roberto Mulliadi"
   ]
  },
  {
   "cell_type": "markdown",
   "id": "947d828c-7a26-471e-adb3-1ac800f5b6a0",
   "metadata": {},
   "source": [
    "### Data Description"
   ]
  },
  {
   "cell_type": "code",
   "execution_count": 1,
   "id": "490ade59-ed35-4f9d-96f9-738710503f65",
   "metadata": {},
   "outputs": [
    {
     "name": "stderr",
     "output_type": "stream",
     "text": [
      "Installing package into ‘/home/jupyter/R/x86_64-pc-linux-gnu-library/4.3’\n",
      "(as ‘lib’ is unspecified)\n",
      "\n",
      "── \u001b[1mAttaching core tidyverse packages\u001b[22m ──────────────────────── tidyverse 2.0.0 ──\n",
      "\u001b[32m✔\u001b[39m \u001b[34mdplyr    \u001b[39m 1.1.2     \u001b[32m✔\u001b[39m \u001b[34mreadr    \u001b[39m 2.1.4\n",
      "\u001b[32m✔\u001b[39m \u001b[34mforcats  \u001b[39m 1.0.0     \u001b[32m✔\u001b[39m \u001b[34mstringr  \u001b[39m 1.5.0\n",
      "\u001b[32m✔\u001b[39m \u001b[34mggplot2  \u001b[39m 3.4.2     \u001b[32m✔\u001b[39m \u001b[34mtibble   \u001b[39m 3.2.1\n",
      "\u001b[32m✔\u001b[39m \u001b[34mlubridate\u001b[39m 1.9.2     \u001b[32m✔\u001b[39m \u001b[34mtidyr    \u001b[39m 1.3.0\n",
      "\u001b[32m✔\u001b[39m \u001b[34mpurrr    \u001b[39m 1.0.1     \n",
      "── \u001b[1mConflicts\u001b[22m ────────────────────────────────────────── tidyverse_conflicts() ──\n",
      "\u001b[31m✖\u001b[39m \u001b[34mdplyr\u001b[39m::\u001b[32mfilter()\u001b[39m masks \u001b[34mstats\u001b[39m::filter()\n",
      "\u001b[31m✖\u001b[39m \u001b[34mdplyr\u001b[39m::\u001b[32mlag()\u001b[39m    masks \u001b[34mstats\u001b[39m::lag()\n",
      "\u001b[36mℹ\u001b[39m Use the conflicted package (\u001b[3m\u001b[34m<http://conflicted.r-lib.org/>\u001b[39m\u001b[23m) to force all conflicts to become errors\n"
     ]
    }
   ],
   "source": [
    "# Loading libraries to preview data\n",
    "install.packages(\"infer\")\n",
    "library(tidyverse)\n",
    "library(infer)\n",
    "library(broom)\n",
    "library(dplyr)"
   ]
  },
  {
   "cell_type": "code",
   "execution_count": 2,
   "id": "f04acedd-abbb-4e19-acf1-14b807729849",
   "metadata": {},
   "outputs": [
    {
     "name": "stderr",
     "output_type": "stream",
     "text": [
      "\u001b[1m\u001b[22mNew names:\n",
      "\u001b[36m•\u001b[39m `` -> `...1`\n",
      "\u001b[1mRows: \u001b[22m\u001b[34m588101\u001b[39m \u001b[1mColumns: \u001b[22m\u001b[34m7\u001b[39m\n",
      "\u001b[36m──\u001b[39m \u001b[1mColumn specification\u001b[22m \u001b[36m────────────────────────────────────────────────────────\u001b[39m\n",
      "\u001b[1mDelimiter:\u001b[22m \",\"\n",
      "\u001b[31mchr\u001b[39m (2): test group, most ads day\n",
      "\u001b[32mdbl\u001b[39m (4): ...1, user id, total ads, most ads hour\n",
      "\u001b[33mlgl\u001b[39m (1): converted\n",
      "\n",
      "\u001b[36mℹ\u001b[39m Use `spec()` to retrieve the full column specification for this data.\n",
      "\u001b[36mℹ\u001b[39m Specify the column types or set `show_col_types = FALSE` to quiet this message.\n"
     ]
    },
    {
     "data": {
      "text/html": [
       "<table class=\"dataframe\">\n",
       "<caption>A tibble: 5 × 7</caption>\n",
       "<thead>\n",
       "\t<tr><th scope=col>index</th><th scope=col>user id</th><th scope=col>test group</th><th scope=col>converted</th><th scope=col>total ads</th><th scope=col>most ads day</th><th scope=col>most ads hour</th></tr>\n",
       "\t<tr><th scope=col>&lt;dbl&gt;</th><th scope=col>&lt;dbl&gt;</th><th scope=col>&lt;chr&gt;</th><th scope=col>&lt;lgl&gt;</th><th scope=col>&lt;dbl&gt;</th><th scope=col>&lt;chr&gt;</th><th scope=col>&lt;dbl&gt;</th></tr>\n",
       "</thead>\n",
       "<tbody>\n",
       "\t<tr><td>0</td><td>1069124</td><td>ad</td><td>FALSE</td><td>130</td><td>Monday </td><td>20</td></tr>\n",
       "\t<tr><td>1</td><td>1119715</td><td>ad</td><td>FALSE</td><td> 93</td><td>Tuesday</td><td>22</td></tr>\n",
       "\t<tr><td>2</td><td>1144181</td><td>ad</td><td>FALSE</td><td> 21</td><td>Tuesday</td><td>18</td></tr>\n",
       "\t<tr><td>3</td><td>1435133</td><td>ad</td><td>FALSE</td><td>355</td><td>Tuesday</td><td>10</td></tr>\n",
       "\t<tr><td>4</td><td>1015700</td><td>ad</td><td>FALSE</td><td>276</td><td>Friday </td><td>14</td></tr>\n",
       "</tbody>\n",
       "</table>\n"
      ],
      "text/latex": [
       "A tibble: 5 × 7\n",
       "\\begin{tabular}{lllllll}\n",
       " index & user id & test group & converted & total ads & most ads day & most ads hour\\\\\n",
       " <dbl> & <dbl> & <chr> & <lgl> & <dbl> & <chr> & <dbl>\\\\\n",
       "\\hline\n",
       "\t 0 & 1069124 & ad & FALSE & 130 & Monday  & 20\\\\\n",
       "\t 1 & 1119715 & ad & FALSE &  93 & Tuesday & 22\\\\\n",
       "\t 2 & 1144181 & ad & FALSE &  21 & Tuesday & 18\\\\\n",
       "\t 3 & 1435133 & ad & FALSE & 355 & Tuesday & 10\\\\\n",
       "\t 4 & 1015700 & ad & FALSE & 276 & Friday  & 14\\\\\n",
       "\\end{tabular}\n"
      ],
      "text/markdown": [
       "\n",
       "A tibble: 5 × 7\n",
       "\n",
       "| index &lt;dbl&gt; | user id &lt;dbl&gt; | test group &lt;chr&gt; | converted &lt;lgl&gt; | total ads &lt;dbl&gt; | most ads day &lt;chr&gt; | most ads hour &lt;dbl&gt; |\n",
       "|---|---|---|---|---|---|---|\n",
       "| 0 | 1069124 | ad | FALSE | 130 | Monday  | 20 |\n",
       "| 1 | 1119715 | ad | FALSE |  93 | Tuesday | 22 |\n",
       "| 2 | 1144181 | ad | FALSE |  21 | Tuesday | 18 |\n",
       "| 3 | 1435133 | ad | FALSE | 355 | Tuesday | 10 |\n",
       "| 4 | 1015700 | ad | FALSE | 276 | Friday  | 14 |\n",
       "\n"
      ],
      "text/plain": [
       "  index user id test group converted total ads most ads day most ads hour\n",
       "1 0     1069124 ad         FALSE     130       Monday       20           \n",
       "2 1     1119715 ad         FALSE      93       Tuesday      22           \n",
       "3 2     1144181 ad         FALSE      21       Tuesday      18           \n",
       "4 3     1435133 ad         FALSE     355       Tuesday      10           \n",
       "5 4     1015700 ad         FALSE     276       Friday       14           "
      ]
     },
     "metadata": {},
     "output_type": "display_data"
    },
    {
     "data": {
      "text/html": [
       "<table class=\"dataframe\">\n",
       "<caption>A tibble: 5 × 7</caption>\n",
       "<thead>\n",
       "\t<tr><th scope=col>index</th><th scope=col>user id</th><th scope=col>test group</th><th scope=col>converted</th><th scope=col>total ads</th><th scope=col>most ads day</th><th scope=col>most ads hour</th></tr>\n",
       "\t<tr><th scope=col>&lt;dbl&gt;</th><th scope=col>&lt;dbl&gt;</th><th scope=col>&lt;chr&gt;</th><th scope=col>&lt;lgl&gt;</th><th scope=col>&lt;dbl&gt;</th><th scope=col>&lt;chr&gt;</th><th scope=col>&lt;dbl&gt;</th></tr>\n",
       "</thead>\n",
       "<tbody>\n",
       "\t<tr><td>588096</td><td>1278437</td><td>ad</td><td>FALSE</td><td>1</td><td>Tuesday</td><td>23</td></tr>\n",
       "\t<tr><td>588097</td><td>1327975</td><td>ad</td><td>FALSE</td><td>1</td><td>Tuesday</td><td>23</td></tr>\n",
       "\t<tr><td>588098</td><td>1038442</td><td>ad</td><td>FALSE</td><td>3</td><td>Tuesday</td><td>23</td></tr>\n",
       "\t<tr><td>588099</td><td>1496395</td><td>ad</td><td>FALSE</td><td>1</td><td>Tuesday</td><td>23</td></tr>\n",
       "\t<tr><td>588100</td><td>1237779</td><td>ad</td><td>FALSE</td><td>1</td><td>Tuesday</td><td>23</td></tr>\n",
       "</tbody>\n",
       "</table>\n"
      ],
      "text/latex": [
       "A tibble: 5 × 7\n",
       "\\begin{tabular}{lllllll}\n",
       " index & user id & test group & converted & total ads & most ads day & most ads hour\\\\\n",
       " <dbl> & <dbl> & <chr> & <lgl> & <dbl> & <chr> & <dbl>\\\\\n",
       "\\hline\n",
       "\t 588096 & 1278437 & ad & FALSE & 1 & Tuesday & 23\\\\\n",
       "\t 588097 & 1327975 & ad & FALSE & 1 & Tuesday & 23\\\\\n",
       "\t 588098 & 1038442 & ad & FALSE & 3 & Tuesday & 23\\\\\n",
       "\t 588099 & 1496395 & ad & FALSE & 1 & Tuesday & 23\\\\\n",
       "\t 588100 & 1237779 & ad & FALSE & 1 & Tuesday & 23\\\\\n",
       "\\end{tabular}\n"
      ],
      "text/markdown": [
       "\n",
       "A tibble: 5 × 7\n",
       "\n",
       "| index &lt;dbl&gt; | user id &lt;dbl&gt; | test group &lt;chr&gt; | converted &lt;lgl&gt; | total ads &lt;dbl&gt; | most ads day &lt;chr&gt; | most ads hour &lt;dbl&gt; |\n",
       "|---|---|---|---|---|---|---|\n",
       "| 588096 | 1278437 | ad | FALSE | 1 | Tuesday | 23 |\n",
       "| 588097 | 1327975 | ad | FALSE | 1 | Tuesday | 23 |\n",
       "| 588098 | 1038442 | ad | FALSE | 3 | Tuesday | 23 |\n",
       "| 588099 | 1496395 | ad | FALSE | 1 | Tuesday | 23 |\n",
       "| 588100 | 1237779 | ad | FALSE | 1 | Tuesday | 23 |\n",
       "\n"
      ],
      "text/plain": [
       "  index  user id test group converted total ads most ads day most ads hour\n",
       "1 588096 1278437 ad         FALSE     1         Tuesday      23           \n",
       "2 588097 1327975 ad         FALSE     1         Tuesday      23           \n",
       "3 588098 1038442 ad         FALSE     3         Tuesday      23           \n",
       "4 588099 1496395 ad         FALSE     1         Tuesday      23           \n",
       "5 588100 1237779 ad         FALSE     1         Tuesday      23           "
      ]
     },
     "metadata": {},
     "output_type": "display_data"
    }
   ],
   "source": [
    "# Loading the data using read_csv\n",
    "marketing_campaigns_data <- read_csv(\"data/marketing_AB.csv\")\n",
    "colnames(marketing_campaigns_data)[1] <- \"index\"\n",
    "\n",
    "# Presenting the first and last few rows of observations using head and tail\n",
    "head(marketing_campaigns_data, 5)\n",
    "tail(marketing_campaigns_data, 5)"
   ]
  },
  {
   "cell_type": "code",
   "execution_count": 3,
   "id": "6d23b420-eb50-4649-894e-b33562446cc1",
   "metadata": {},
   "outputs": [
    {
     "name": "stdout",
     "output_type": "stream",
     "text": [
      "[1] 588101\n"
     ]
    }
   ],
   "source": [
    "N <- nrow(marketing_campaigns_data)\n",
    "print(N)"
   ]
  },
  {
   "cell_type": "markdown",
   "id": "7b3c7eb8-ab95-4cf8-a327-36496c2ed6df",
   "metadata": {},
   "source": [
    "#### Data Overview"
   ]
  },
  {
   "cell_type": "markdown",
   "id": "ab05a9d4-d764-4fbc-93d5-081565fcfc59",
   "metadata": {},
   "source": [
    "**Motivation:** <br>\n",
    "Marketing firms aim to conduct effective campaigns, but the market's complexity means there are often multiple viable strategies. Consequently, they typically employ A/B testing, a randomized experimental process in which different versions of a variable are simultaneously presented to distinct audience segments. This helps determine which version yields the greatest impact and enhances key business metrics. The dataset is collected from Kaggle (https://www.kaggle.com/datasets/faviovaz/marketing-ab-testing), and the main aim is to find out whether using ads would be successful in terms of sales. \n",
    "\n",
    "We first observe that the number of observations in the dataset is 588101, and that there are 7 variables to be considered for analysis.\n",
    "\n",
    "**Data Dictionary:**\n",
    "- **index (numeric):** Row index (unique)\n",
    "- **user id (numeric):** User ID (unique)\n",
    "- **test group (text):** If \"ad\" then the person saw the advertisement, if \"psa\" then they only saw the public service announcement\n",
    "- **converted (boolean):** If a person purchased the product then TRUE, else FALSE\n",
    "- **total ads (numeric):** The amount of ads seen by a user\n",
    "- **most ads day (text):** Day that the user saw the largest amount of ads\n",
    "- **most ads hour (numeric):** Hour of day that the user sees the largest amount of ads\n",
    "\n"
   ]
  },
  {
   "cell_type": "markdown",
   "id": "42251064-b8b9-4c23-8d7c-86307352508f",
   "metadata": {},
   "source": [
    "## Research Question"
   ]
  },
  {
   "cell_type": "markdown",
   "id": "7ad315e9-aa6d-44b7-adf5-bf6f99945cfe",
   "metadata": {},
   "source": [
    "\"How does distinct advertising strategies impact conversion rates, and to what degree do conversion rates vary in relation to ad frequency, peak ad exposure day, and the optimal ad-viewing hour within a marketing campaign?\"\n",
    "\n",
    "\n",
    "\n",
    "\n"
   ]
  },
  {
   "cell_type": "markdown",
   "id": "9535645f-8925-4bea-a1e2-52c915496855",
   "metadata": {},
   "source": [
    "**Response Variables:** \n",
    "- Conversion rate (derived from \"converted\" variable) <br>\n",
    "\n",
    "**Explanatory Variables:**\n",
    "- test group\n",
    "- total ads\n",
    "- most ads day\n",
    "- most ads hour\n",
    "\n",
    "**Focus:** <br>\n",
    "The research question leans towards **inference**. The goal is to gain an understanding of the influence of diverse advertising strategies and their relationships with factors like ad frequency, the day with the highest ad exposure, and the optimal ad-viewing hour. This analysis will enable the project to derive insights and make conclusions about the effectiveness of advertising strategies in the context of the specified dataset variables.\n",
    "\n",
    "**How will my data adrress the question of interest?** <br>\n",
    "By analyzing the variables of interest in my dataset, I can conduct statistical tests (A/B testing, hypothesis tests, confidence intervals, etc) and apply other appropriate methods to assess the impact of advertising strategies, which are determined by the variable \"test group\" in my dataset. My dataset provides me the information that is needed to conduct my planned tests and to ultimately answer my research question argumentatively."
   ]
  }
 ],
 "metadata": {
  "kernelspec": {
   "display_name": "R",
   "language": "R",
   "name": "ir"
  },
  "language_info": {
   "codemirror_mode": "r",
   "file_extension": ".r",
   "mimetype": "text/x-r-source",
   "name": "R",
   "pygments_lexer": "r",
   "version": "4.3.0"
  }
 },
 "nbformat": 4,
 "nbformat_minor": 5
}
